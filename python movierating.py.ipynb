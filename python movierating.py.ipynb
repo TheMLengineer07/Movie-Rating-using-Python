{
 "cells": [
  {
   "cell_type": "code",
   "execution_count": 1,
   "id": "3c570df9",
   "metadata": {},
   "outputs": [
    {
     "name": "stdout",
     "output_type": "stream",
     "text": [
      "Note: you may need to restart the kernel to use updated packages.Defaulting to user installation because normal site-packages is not writeable\n",
      "Requirement already satisfied: IMDbpy in c:\\users\\prabhav\\appdata\\roaming\\python\\python310\\site-packages (2022.7.9)\n",
      "Requirement already satisfied: cinemagoer in c:\\users\\prabhav\\appdata\\roaming\\python\\python310\\site-packages (from IMDbpy) (2023.5.1)\n",
      "Requirement already satisfied: SQLAlchemy in c:\\programdata\\anaconda3\\lib\\site-packages (from cinemagoer->IMDbpy) (1.4.39)\n",
      "Requirement already satisfied: lxml in c:\\programdata\\anaconda3\\lib\\site-packages (from cinemagoer->IMDbpy) (4.9.3)\n",
      "Requirement already satisfied: greenlet!=0.4.17 in c:\\programdata\\anaconda3\\lib\\site-packages (from SQLAlchemy->cinemagoer->IMDbpy) (2.0.1)\n",
      "\n"
     ]
    }
   ],
   "source": [
    "pip install IMDbpy"
   ]
  },
  {
   "cell_type": "code",
   "execution_count": 2,
   "id": "e771e11d",
   "metadata": {},
   "outputs": [],
   "source": [
    "import imdb"
   ]
  },
  {
   "cell_type": "code",
   "execution_count": 3,
   "id": "26c9f96b",
   "metadata": {},
   "outputs": [
    {
     "name": "stdout",
     "output_type": "stream",
     "text": [
      "Enter the name of the movie:sholey\n",
      "The imdb rating of'sholey' is:5.4\n"
     ]
    }
   ],
   "source": [
    "def get_movie_rating():\n",
    "    movie_name=input(\"Enter the name of the movie:\")\n",
    "    ia=imdb.IMDb()\n",
    "    movies=ia.search_movie(movie_name)\n",
    "    \n",
    "    if movies:\n",
    "        movie=movies[0]\n",
    "        ia.update(movie)\n",
    "        rating=movie.get('rating','N/A')\n",
    "        print(f\"The imdb rating of'{movie_name}' is:{rating}\")\n",
    "    else:\n",
    "        print(f\"Movie'{movie_name}' not found!\")\n",
    "get_movie_rating()"
   ]
  }
 ],
 "metadata": {
  "kernelspec": {
   "display_name": "Python 3 (ipykernel)",
   "language": "python",
   "name": "python3"
  },
  "language_info": {
   "codemirror_mode": {
    "name": "ipython",
    "version": 3
   },
   "file_extension": ".py",
   "mimetype": "text/x-python",
   "name": "python",
   "nbconvert_exporter": "python",
   "pygments_lexer": "ipython3",
   "version": "3.10.9"
  }
 },
 "nbformat": 4,
 "nbformat_minor": 5
}
